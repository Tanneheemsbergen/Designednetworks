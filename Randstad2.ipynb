{
 "cells": [
  {
   "cell_type": "code",
   "execution_count": null,
   "metadata": {},
   "outputs": [],
   "source": [
    "# Import Libraries\n",
    "%matplotlib inline\n",
    "import pandas as pd\n",
    "import numpy as np\n",
    "import matplotlib.pyplot as plt\n",
    "import networkx as nx\n",
    "import geopandas as gpd\n",
    "import matplotlib.image as mpimg\n",
    "from shapely.geometry import Point, LineString\n",
    "import osmnx as ox"
   ]
  },
  {
   "cell_type": "code",
   "execution_count": 6,
   "metadata": {},
   "outputs": [
    {
     "name": "stdout",
     "output_type": "stream",
     "text": [
      "Zaandam:  190.39775130406107\n",
      "Amsterdam:  1102.7014875484076\n",
      "Haarlem:  197.86840005217894\n",
      "Schiphol:  0.0011794519652854262\n",
      "Leiden:  153.54223629282205\n",
      "Den Haag:  667.2171562139309\n",
      "Zoetermeer:  151.46993918981556\n",
      "Delft:  129.23609019222\n",
      "Rotterdam:  791.5597002021817\n",
      "Spijkenisse:  84.20107580172657\n",
      "Dordrecht:  143.9981109897324\n",
      "Vlaardingen:  90.19505068930711\n",
      "Alphen aan de Rijn:  135.5992335449349\n",
      "Gouda:  89.35881924591973\n",
      "Woerden:  62.79048427590023\n",
      "Utrecht:  441.59978977448174\n",
      "Hilversum:  111.37093127404167\n",
      "Almere:  267.2991988926361\n",
      "Amersfoort:  189.5933650637364\n"
     ]
    }
   ],
   "source": [
    "cities_population = {\n",
    "    \"Zaandam\": 161429,\n",
    "    \"Amsterdam\": 934927,\n",
    "    \"Haarlem\": 167763,\n",
    "    \"Schiphol\": 1,\n",
    "    \"Leiden\": 130181,\n",
    "    \"Den Haag\": 565701,\n",
    "    \"Zoetermeer\": 128424,\n",
    "    \"Delft\": 109573,\n",
    "    \"Rotterdam\": 671125,\n",
    "    \"Spijkenisse\": 71390,\n",
    "    \"Dordrecht\": 122089,\n",
    "    \"Vlaardingen\": 76472,\n",
    "    \"Alphen aan de Rijn\": 114968,\n",
    "    \"Gouda\": 75763,\n",
    "    \"Woerden\": 53237,\n",
    "    \"Utrecht\": 374411,\n",
    "    \"Hilversum\": 94426,\n",
    "    \"Almere\": 226630,\n",
    "    \"Amersfoort\": 160747\n",
    "}\n",
    "total_population = sum(cities_population.values())\n",
    "\n",
    "cities_percentage = {city: (population / total_population) * 5000 for city, population in cities_population.items()}\n",
    "\n",
    "for city, percentage in cities_percentage.items():\n",
    "    print(f'{city}: {percentage: }')"
   ]
  }
 ],
 "metadata": {
  "kernelspec": {
   "display_name": "Python 3",
   "language": "python",
   "name": "python3"
  },
  "language_info": {
   "codemirror_mode": {
    "name": "ipython",
    "version": 3
   },
   "file_extension": ".py",
   "mimetype": "text/x-python",
   "name": "python",
   "nbconvert_exporter": "python",
   "pygments_lexer": "ipython3",
   "version": "3.9.10"
  },
  "orig_nbformat": 4,
  "vscode": {
   "interpreter": {
    "hash": "aee8b7b246df8f9039afb4144a1f6fd8d2ca17a180786b69acc140d282b71a49"
   }
  }
 },
 "nbformat": 4,
 "nbformat_minor": 2
}
