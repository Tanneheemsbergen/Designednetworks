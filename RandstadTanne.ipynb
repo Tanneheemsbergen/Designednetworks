{
 "cells": [
  {
   "cell_type": "code",
   "execution_count": 5,
   "metadata": {},
   "outputs": [
    {
     "name": "stderr",
     "output_type": "stream",
     "text": [
      "/usr/local/lib/python3.9/site-packages/requests/__init__.py:102: RequestsDependencyWarning: urllib3 (1.26.8) or chardet (5.2.0)/charset_normalizer (2.0.11) doesn't match a supported version!\n",
      "  warnings.warn(\"urllib3 ({}) or chardet ({})/charset_normalizer ({}) doesn't match a supported \"\n"
     ]
    }
   ],
   "source": [
    "# Import Libraries\n",
    "%matplotlib inline\n",
    "import pandas as pd\n",
    "import numpy as np\n",
    "import matplotlib.pyplot as plt\n",
    "import networkx as nx\n",
    "import geopandas as gpd\n",
    "import matplotlib.image as mpimg\n",
    "from shapely.geometry import Point, LineString\n",
    "import osmnx as ox"
   ]
  },
  {
   "cell_type": "code",
   "execution_count": 4,
   "metadata": {},
   "outputs": [
    {
     "name": "stdout",
     "output_type": "stream",
     "text": [
      "\u001b[33mDEPRECATION: Configuring installation scheme with distutils config files is deprecated and will no longer work in the near future. If you are using a Homebrew or Linuxbrew Python, please see discussion at https://github.com/Homebrew/homebrew-core/issues/76621\u001b[0m\u001b[33m\n",
      "\u001b[0mCollecting osmnx\n",
      "  Downloading osmnx-1.9.1-py3-none-any.whl (104 kB)\n",
      "\u001b[2K     \u001b[90m━━━━━━━━━━━━━━━━━━━━━━━━━━━━━━━━━━━━━━━\u001b[0m \u001b[32m104.3/104.3 KB\u001b[0m \u001b[31m1.4 MB/s\u001b[0m eta \u001b[36m0:00:00\u001b[0m00:01\u001b[0m00:01\u001b[0m\n",
      "\u001b[?25hRequirement already satisfied: requests>=2.27 in /usr/local/lib/python3.9/site-packages (from osmnx) (2.27.1)\n",
      "Requirement already satisfied: numpy>=1.20 in /usr/local/lib/python3.9/site-packages (from osmnx) (1.22.3)\n",
      "Requirement already satisfied: pandas>=1.1 in /usr/local/lib/python3.9/site-packages (from osmnx) (1.4.2)\n",
      "Requirement already satisfied: geopandas>=0.12 in /usr/local/lib/python3.9/site-packages (from osmnx) (0.14.1)\n",
      "Requirement already satisfied: shapely>=2.0 in /usr/local/lib/python3.9/site-packages (from osmnx) (2.0.2)\n",
      "Requirement already satisfied: networkx>=2.5 in /usr/local/lib/python3.9/site-packages (from osmnx) (3.2.1)\n",
      "Requirement already satisfied: pyproj>=3.3.0 in /usr/local/lib/python3.9/site-packages (from geopandas>=0.12->osmnx) (3.6.1)\n",
      "Requirement already satisfied: packaging in /usr/local/lib/python3.9/site-packages (from geopandas>=0.12->osmnx) (21.3)\n",
      "Requirement already satisfied: fiona>=1.8.21 in /usr/local/lib/python3.9/site-packages (from geopandas>=0.12->osmnx) (1.9.5)\n",
      "Requirement already satisfied: pytz>=2020.1 in /usr/local/lib/python3.9/site-packages (from pandas>=1.1->osmnx) (2022.1)\n",
      "Requirement already satisfied: python-dateutil>=2.8.1 in /usr/local/lib/python3.9/site-packages (from pandas>=1.1->osmnx) (2.8.2)\n",
      "Requirement already satisfied: charset-normalizer~=2.0.0 in /usr/local/lib/python3.9/site-packages (from requests>=2.27->osmnx) (2.0.11)\n",
      "Requirement already satisfied: idna<4,>=2.5 in /usr/local/lib/python3.9/site-packages (from requests>=2.27->osmnx) (3.3)\n",
      "Requirement already satisfied: certifi>=2017.4.17 in /usr/local/lib/python3.9/site-packages (from requests>=2.27->osmnx) (2021.10.8)\n",
      "Requirement already satisfied: urllib3<1.27,>=1.21.1 in /usr/local/lib/python3.9/site-packages (from requests>=2.27->osmnx) (1.26.8)\n",
      "Requirement already satisfied: six in /usr/local/lib/python3.9/site-packages (from fiona>=1.8.21->geopandas>=0.12->osmnx) (1.16.0)\n",
      "Requirement already satisfied: cligj>=0.5 in /usr/local/lib/python3.9/site-packages (from fiona>=1.8.21->geopandas>=0.12->osmnx) (0.7.2)\n",
      "Requirement already satisfied: click~=8.0 in /usr/local/lib/python3.9/site-packages (from fiona>=1.8.21->geopandas>=0.12->osmnx) (8.0.4)\n",
      "Requirement already satisfied: setuptools in /usr/local/lib/python3.9/site-packages (from fiona>=1.8.21->geopandas>=0.12->osmnx) (60.5.0)\n",
      "Requirement already satisfied: attrs>=19.2.0 in /usr/local/lib/python3.9/site-packages (from fiona>=1.8.21->geopandas>=0.12->osmnx) (20.3.0)\n",
      "Requirement already satisfied: click-plugins>=1.0 in /usr/local/lib/python3.9/site-packages (from fiona>=1.8.21->geopandas>=0.12->osmnx) (1.1.1)\n",
      "Requirement already satisfied: importlib-metadata in /usr/local/lib/python3.9/site-packages (from fiona>=1.8.21->geopandas>=0.12->osmnx) (6.8.0)\n",
      "Requirement already satisfied: pyparsing!=3.0.5,>=2.0.2 in /usr/local/lib/python3.9/site-packages (from packaging->geopandas>=0.12->osmnx) (3.0.8)\n",
      "Requirement already satisfied: zipp>=0.5 in /usr/local/lib/python3.9/site-packages (from importlib-metadata->fiona>=1.8.21->geopandas>=0.12->osmnx) (3.17.0)\n",
      "Installing collected packages: osmnx\n",
      "\u001b[33m  DEPRECATION: Configuring installation scheme with distutils config files is deprecated and will no longer work in the near future. If you are using a Homebrew or Linuxbrew Python, please see discussion at https://github.com/Homebrew/homebrew-core/issues/76621\u001b[0m\u001b[33m\n",
      "\u001b[0m\u001b[33mDEPRECATION: Configuring installation scheme with distutils config files is deprecated and will no longer work in the near future. If you are using a Homebrew or Linuxbrew Python, please see discussion at https://github.com/Homebrew/homebrew-core/issues/76621\u001b[0m\u001b[33m\n",
      "\u001b[0mSuccessfully installed osmnx-1.9.1\n",
      "\u001b[33mWARNING: You are using pip version 22.0.4; however, version 24.0 is available.\n",
      "You should consider upgrading via the '/usr/local/opt/python@3.9/bin/python3.9 -m pip install --upgrade pip' command.\u001b[0m\u001b[33m\n",
      "\u001b[0m"
     ]
    }
   ],
   "source": [
    "!pip install osmnx"
   ]
  },
  {
   "cell_type": "code",
   "execution_count": 6,
   "metadata": {},
   "outputs": [
    {
     "ename": "NetworkXError",
     "evalue": "Node 45824758 has no position.",
     "output_type": "error",
     "traceback": [
      "\u001b[0;31m---------------------------------------------------------------------------\u001b[0m",
      "\u001b[0;31mKeyError\u001b[0m                                  Traceback (most recent call last)",
      "File \u001b[0;32m/usr/local/lib/python3.9/site-packages/networkx/drawing/nx_pylab.py:429\u001b[0m, in \u001b[0;36mdraw_networkx_nodes\u001b[0;34m(G, pos, nodelist, node_size, node_color, node_shape, alpha, cmap, vmin, vmax, ax, linewidths, edgecolors, label, margins)\u001b[0m\n\u001b[1;32m    428\u001b[0m \u001b[39mtry\u001b[39;00m:\n\u001b[0;32m--> 429\u001b[0m     xy \u001b[39m=\u001b[39m np\u001b[39m.\u001b[39masarray([pos[v] \u001b[39mfor\u001b[39;00m v \u001b[39min\u001b[39;00m nodelist])\n\u001b[1;32m    430\u001b[0m \u001b[39mexcept\u001b[39;00m \u001b[39mKeyError\u001b[39;00m \u001b[39mas\u001b[39;00m err:\n",
      "File \u001b[0;32m/usr/local/lib/python3.9/site-packages/networkx/drawing/nx_pylab.py:429\u001b[0m, in \u001b[0;36m<listcomp>\u001b[0;34m(.0)\u001b[0m\n\u001b[1;32m    428\u001b[0m \u001b[39mtry\u001b[39;00m:\n\u001b[0;32m--> 429\u001b[0m     xy \u001b[39m=\u001b[39m np\u001b[39m.\u001b[39masarray([pos[v] \u001b[39mfor\u001b[39;00m v \u001b[39min\u001b[39;00m nodelist])\n\u001b[1;32m    430\u001b[0m \u001b[39mexcept\u001b[39;00m \u001b[39mKeyError\u001b[39;00m \u001b[39mas\u001b[39;00m err:\n",
      "\u001b[0;31mKeyError\u001b[0m: 45824758",
      "\nThe above exception was the direct cause of the following exception:\n",
      "\u001b[0;31mNetworkXError\u001b[0m                             Traceback (most recent call last)",
      "\u001b[1;32m/Users/tanneheemsbergen/Documents/GitHub/Designednetworks/RandstadTanne.ipynb Cell 3\u001b[0m in \u001b[0;36m<cell line: 57>\u001b[0;34m()\u001b[0m\n\u001b[1;32m     <a href='vscode-notebook-cell:/Users/tanneheemsbergen/Documents/GitHub/Designednetworks/RandstadTanne.ipynb#W1sZmlsZQ%3D%3D?line=52'>53</a>\u001b[0m fig, ax \u001b[39m=\u001b[39m plt\u001b[39m.\u001b[39msubplots(figsize\u001b[39m=\u001b[39m(\u001b[39m10\u001b[39m, \u001b[39m15\u001b[39m))\n\u001b[1;32m     <a href='vscode-notebook-cell:/Users/tanneheemsbergen/Documents/GitHub/Designednetworks/RandstadTanne.ipynb#W1sZmlsZQ%3D%3D?line=53'>54</a>\u001b[0m \u001b[39m#ax.imshow(img, extent=[3.2, 7.4, 50.7, 53.7])  # You might need to adjust the extent to fit your image\u001b[39;00m\n\u001b[1;32m     <a href='vscode-notebook-cell:/Users/tanneheemsbergen/Documents/GitHub/Designednetworks/RandstadTanne.ipynb#W1sZmlsZQ%3D%3D?line=54'>55</a>\u001b[0m \n\u001b[1;32m     <a href='vscode-notebook-cell:/Users/tanneheemsbergen/Documents/GitHub/Designednetworks/RandstadTanne.ipynb#W1sZmlsZQ%3D%3D?line=55'>56</a>\u001b[0m \u001b[39m# Draw the network\u001b[39;00m\n\u001b[0;32m---> <a href='vscode-notebook-cell:/Users/tanneheemsbergen/Documents/GitHub/Designednetworks/RandstadTanne.ipynb#W1sZmlsZQ%3D%3D?line=56'>57</a>\u001b[0m nx\u001b[39m.\u001b[39;49mdraw_networkx_nodes(G1, pos, node_size\u001b[39m=\u001b[39;49m\u001b[39m50\u001b[39;49m, node_color\u001b[39m=\u001b[39;49m\u001b[39m'\u001b[39;49m\u001b[39mred\u001b[39;49m\u001b[39m'\u001b[39;49m, ax\u001b[39m=\u001b[39;49max)\n\u001b[1;32m     <a href='vscode-notebook-cell:/Users/tanneheemsbergen/Documents/GitHub/Designednetworks/RandstadTanne.ipynb#W1sZmlsZQ%3D%3D?line=57'>58</a>\u001b[0m nx\u001b[39m.\u001b[39mdraw_networkx_labels(G1, pos, font_size\u001b[39m=\u001b[39m\u001b[39m9\u001b[39m, ax\u001b[39m=\u001b[39max)\n\u001b[1;32m     <a href='vscode-notebook-cell:/Users/tanneheemsbergen/Documents/GitHub/Designednetworks/RandstadTanne.ipynb#W1sZmlsZQ%3D%3D?line=58'>59</a>\u001b[0m nx\u001b[39m.\u001b[39mdraw_networkx_edges(G1, pos, ax\u001b[39m=\u001b[39max)\n",
      "File \u001b[0;32m/usr/local/lib/python3.9/site-packages/networkx/drawing/nx_pylab.py:431\u001b[0m, in \u001b[0;36mdraw_networkx_nodes\u001b[0;34m(G, pos, nodelist, node_size, node_color, node_shape, alpha, cmap, vmin, vmax, ax, linewidths, edgecolors, label, margins)\u001b[0m\n\u001b[1;32m    429\u001b[0m     xy \u001b[39m=\u001b[39m np\u001b[39m.\u001b[39masarray([pos[v] \u001b[39mfor\u001b[39;00m v \u001b[39min\u001b[39;00m nodelist])\n\u001b[1;32m    430\u001b[0m \u001b[39mexcept\u001b[39;00m \u001b[39mKeyError\u001b[39;00m \u001b[39mas\u001b[39;00m err:\n\u001b[0;32m--> 431\u001b[0m     \u001b[39mraise\u001b[39;00m nx\u001b[39m.\u001b[39mNetworkXError(\u001b[39mf\u001b[39m\u001b[39m\"\u001b[39m\u001b[39mNode \u001b[39m\u001b[39m{\u001b[39;00merr\u001b[39m}\u001b[39;00m\u001b[39m has no position.\u001b[39m\u001b[39m\"\u001b[39m) \u001b[39mfrom\u001b[39;00m \u001b[39merr\u001b[39;00m\n\u001b[1;32m    433\u001b[0m \u001b[39mif\u001b[39;00m \u001b[39misinstance\u001b[39m(alpha, Iterable):\n\u001b[1;32m    434\u001b[0m     node_color \u001b[39m=\u001b[39m apply_alpha(node_color, alpha, nodelist, cmap, vmin, vmax)\n",
      "\u001b[0;31mNetworkXError\u001b[0m: Node 45824758 has no position."
     ]
    },
    {
     "data": {
      "image/png": "[encoded data removed]",
      "text/plain": [
       "<Figure size 720x1080 with 1 Axes>"
      ]
     },
     "metadata": {
      "needs_background": "light"
     },
     "output_type": "display_data"
    }
   ],
   "source": [
    "# Your cities and their geographical coordinates\n",
    "cities_coords = {\n",
    "    \"Zaandam\": (52.442, 4.829),\n",
    "    \"Amsterdam\": (52.3676, 4.9041),\n",
    "    \"Haarlem\": (52.3874, 4.6462),\n",
    "    \"Schiphol\": (52.3105, 4.7683),\n",
    "    \"Leiden\": (52.1601, 4.4970),\n",
    "    \"Den Haag\": (52.0705, 4.3007),\n",
    "    \"Zoetermeer\": (52.0607, 4.4940),\n",
    "    \"Delft\": (52.0116, 4.3571),\n",
    "    \"Rotterdam\": (51.9225, 4.4792),\n",
    "    \"Spijkenisse\": (51.8453, 4.3297),\n",
    "    \"Dordrecht\": (51.8133, 4.6901),\n",
    "    \"Vlaardingen\": (51.9125, 4.3417),\n",
    "    \"Alphen aan de Rijn\": (52.1292, 4.6555),\n",
    "    \"Gouda\": (52.0116, 4.7105),\n",
    "    \"Woerden\": (52.0850, 4.8836),\n",
    "    \"Utrecht\": (52.0907, 5.1214),\n",
    "    \"Hilversum\": (52.2292, 5.1669),\n",
    "    \"Almere\": (52.3508, 5.2647),\n",
    "    \"Amersfoort\": (52.1561, 5.3878),\n",
    "}\n",
    "\n",
    "connections = [\n",
    "    (42.4, \"Amsterdam\", \"Utrecht\"),\n",
    "    (45.8, \"Leiden\", \"Amsterdam\"),\n",
    "    (20.5, \"Den Haag\", \"Leiden\"),\n",
    "    (33.4, \"Gouda\", \"Den Haag\"),\n",
    "    (22.8, \"Woerden\", \"Gouda\"),\n",
    "    (27.8, \"Utrecht\", \"Woerden\"),\n",
    "    (10.9, \"Den Haag\", \"Delft\"),\n",
    "]\n",
    "# Create a networkx graph\n",
    "G = nx.Graph()\n",
    "\n",
    "# Add nodes to the graph\n",
    "for city, (lat, lon) in cities_coords.items():\n",
    "    G.add_node(city, pos=(lon, lat))  # Note: networkx uses (x, y) == (lon, lat)\n",
    "\n",
    "# Add edges to the graph\n",
    "for distance, city1, city2 in connections:\n",
    "    G.add_edge(city1, city2, weight=distance)\n",
    "\n",
    "# Load the PNG image\n",
    "#img = mpimg.imread('/path/to/your/SnelwegenNederland_2008.png')  # Update the path to the image\n",
    "\n",
    "# Get positions for cities to use for layout\n",
    "pos = nx.get_node_attributes(G, 'pos')\n",
    "\n",
    "# Draw the graph\n",
    "fig, ax = plt.subplots(figsize=(10, 15))\n",
    "#ax.imshow(img, extent=[3.2, 7.4, 50.7, 53.7])  # You might need to adjust the extent to fit your image\n",
    "\n",
    "# Draw the network\n",
    "nx.draw_networkx_nodes(G, pos, node_size=50, node_color='red', ax=ax)\n",
    "nx.draw_networkx_labels(G, pos, font_size=9, ax=ax)\n",
    "nx.draw_networkx_edges(G, pos, ax=ax)\n",
    "\n",
    "# Annotate the edges with distances\n",
    "for (city1, city2, data) in G.edges(data=True):\n",
    "    edge_midpoint = [(pos[city1][0] + pos[city2][0]) / 2, (pos[city1][1] + pos[city2][1]) / 2]\n",
    "    ax.text(edge_midpoint[0], edge_midpoint[1], f\"{data['weight']} km\", size=10, ha='center', va='center')\n",
    "\n",
    "# Set the title and remove the axis\n",
    "ax.set_title('Randstad Cities and Highway Connections')\n",
    "plt.axis('off')  # Turn off the axis\n",
    "plt.show()"
   ]
  },
  {
   "cell_type": "code",
   "execution_count": 7,
   "metadata": {},
   "outputs": [
    {
     "name": "stdout",
     "output_type": "stream",
     "text": [
      "['Amsterdam', 'Leiden', 'Den Haag', 'Delft']\n"
     ]
    }
   ],
   "source": [
    "dsp = nx.shortest_path(G, source='Amsterdam', target='Delft')\n",
    "print(dsp)"
   ]
  },
  {
   "cell_type": "code",
   "execution_count": null,
   "metadata": {},
   "outputs": [],
   "source": []
  }
 ],
 "metadata": {
  "kernelspec": {
   "display_name": "Python 3",
   "language": "python",
   "name": "python3"
  },
  "language_info": {
   "codemirror_mode": {
    "name": "ipython",
    "version": 3
   },
   "file_extension": ".py",
   "mimetype": "text/x-python",
   "name": "python",
   "nbconvert_exporter": "python",
   "pygments_lexer": "ipython3",
   "version": "3.9.10"
  },
  "orig_nbformat": 4,
  "vscode": {
   "interpreter": {
    "hash": "aee8b7b246df8f9039afb4144a1f6fd8d2ca17a180786b69acc140d282b71a49"
   }
  }
 },
 "nbformat": 4,
 "nbformat_minor": 2
}
